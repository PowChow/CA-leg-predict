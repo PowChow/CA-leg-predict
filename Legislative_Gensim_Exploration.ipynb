{
 "cells": [
  {
   "cell_type": "code",
   "execution_count": 1,
   "metadata": {
    "collapsed": false
   },
   "outputs": [],
   "source": [
    "from gensim.models.ldamodel import LdaModel\n",
    "from gensim import matutils\n",
    "from gensim import corpora, models, similarities"
   ]
  },
  {
   "cell_type": "markdown",
   "metadata": {},
   "source": [
    "## Explor Word2Vec Saved models\n",
    "Words used only, not phrases"
   ]
  },
  {
   "cell_type": "code",
   "execution_count": 32,
   "metadata": {
    "collapsed": true
   },
   "outputs": [],
   "source": [
    "load_word2vec = models.Word2Vec.load('./saved_models/word2vec_model.pkl')"
   ]
  },
  {
   "cell_type": "code",
   "execution_count": 38,
   "metadata": {
    "collapsed": false
   },
   "outputs": [
    {
     "data": {
      "text/plain": [
       "[(u'visa', 0.4818602204322815),\n",
       " (u'relator', 0.43365687131881714),\n",
       " (u'alien', 0.41380754113197327),\n",
       " (u'socioeconomic', 0.4128841161727905),\n",
       " (u'citizenship', 0.3995523452758789),\n",
       " (u'undocumented', 0.3953380584716797),\n",
       " (u'transparency', 0.39229080080986023),\n",
       " (u'advantage', 0.3854976296424866),\n",
       " (u'feha', 0.3769506514072418),\n",
       " (u'discrimination', 0.3766019344329834)]"
      ]
     },
     "execution_count": 38,
     "metadata": {},
     "output_type": "execute_result"
    }
   ],
   "source": [
    "load_word2vec.most_similar(positive=['immigration', 'woman'], negative=['man'])"
   ]
  },
  {
   "cell_type": "code",
   "execution_count": 37,
   "metadata": {
    "collapsed": false
   },
   "outputs": [
    {
     "data": {
      "text/plain": [
       "[(u'paternity', 0.5034513473510742),\n",
       " (u'genuine', 0.48913517594337463),\n",
       " (u'upholding', 0.47922948002815247),\n",
       " (u'father', 0.47865012288093567),\n",
       " (u'treaty', 0.47413769364356995),\n",
       " (u'heretofore', 0.4477877616882324),\n",
       " (u'korematsus', 0.44556736946105957),\n",
       " (u'consensual', 0.4446968734264374),\n",
       " (u'conclusively', 0.441426157951355),\n",
       " (u'alien', 0.4387977123260498)]"
      ]
     },
     "execution_count": 37,
     "metadata": {},
     "output_type": "execute_result"
    }
   ],
   "source": [
    "load_word2vec.most_similar(positive=['immigration', 'man'], negative=['woman'])"
   ]
  },
  {
   "cell_type": "code",
   "execution_count": 49,
   "metadata": {
    "collapsed": false
   },
   "outputs": [
    {
     "data": {
      "text/plain": [
       "[(u'offense', 0.701210081577301),\n",
       " (u'felony', 0.6896717548370361),\n",
       " (u'punishment', 0.6303162574768066),\n",
       " (u'murder', 0.5811561346054077),\n",
       " (u'sentencing', 0.5713669657707214),\n",
       " (u'pled', 0.556583046913147),\n",
       " (u'felon', 0.5550010204315186),\n",
       " (u'conviction', 0.5459878444671631),\n",
       " (u'sentenced', 0.526339054107666),\n",
       " (u'conspiracy', 0.5051143169403076)]"
      ]
     },
     "execution_count": 49,
     "metadata": {},
     "output_type": "execute_result"
    }
   ],
   "source": [
    "load_word2vec.most_similar(positive=['crime', 'sentence'])"
   ]
  },
  {
   "cell_type": "code",
   "execution_count": 26,
   "metadata": {
    "collapsed": false
   },
   "outputs": [
    {
     "data": {
      "text/plain": [
       "0.097102028061160361"
      ]
     },
     "execution_count": 26,
     "metadata": {},
     "output_type": "execute_result"
    }
   ],
   "source": [
    "load_word2vec.similarity('solar', 'power')"
   ]
  },
  {
   "cell_type": "markdown",
   "metadata": {},
   "source": [
    "## Word 2 Vec with phrases"
   ]
  },
  {
   "cell_type": "code",
   "execution_count": 72,
   "metadata": {
    "collapsed": false
   },
   "outputs": [],
   "source": [
    "ph_word2vec = models.Word2Vec.load('./saved_models/word2vec_phrased_model.pkl')"
   ]
  },
  {
   "cell_type": "code",
   "execution_count": 77,
   "metadata": {
    "collapsed": false
   },
   "outputs": [
    {
     "data": {
      "text/plain": [
       "[(u'men', 0.7423241138458252),\n",
       " (u'immigrant', 0.7400570511817932),\n",
       " (u'struggle', 0.7338622808456421),\n",
       " (u'african_american', 0.7323673963546753),\n",
       " (u'girl', 0.7240021228790283),\n",
       " (u'farmworkers', 0.7111879587173462),\n",
       " (u'men_woman', 0.7077139616012573),\n",
       " (u'lesbian_gay', 0.7039222717285156),\n",
       " (u'latino', 0.7032620310783386),\n",
       " (u'hispanic', 0.7016974687576294)]"
      ]
     },
     "execution_count": 77,
     "metadata": {},
     "output_type": "execute_result"
    }
   ],
   "source": [
    "ph_word2vec.most_similar(positive=['woman'])"
   ]
  },
  {
   "cell_type": "code",
   "execution_count": 86,
   "metadata": {
    "collapsed": false
   },
   "outputs": [
    {
     "data": {
      "text/plain": [
       "[(u'undergraduate_student', 0.68773353099823),\n",
       " (u'guaranty', 0.6313735246658325),\n",
       " (u'advance_indebtedness', 0.6187970042228699),\n",
       " (u'repayment', 0.6168940663337708),\n",
       " (u'student_athlete', 0.6030189990997314),\n",
       " (u'disbursing_grant', 0.5946812629699707),\n",
       " (u'loan_guarantee', 0.5888113975524902),\n",
       " (u'scholarship', 0.5862541198730469),\n",
       " (u'education_snaple', 0.5835015773773193),\n",
       " (u'seal_dream', 0.5788461565971375)]"
      ]
     },
     "execution_count": 86,
     "metadata": {},
     "output_type": "execute_result"
    }
   ],
   "source": [
    "ph_word2vec.most_similar(positive=['loan', 'student', 'forgiveness'])"
   ]
  },
  {
   "cell_type": "code",
   "execution_count": 90,
   "metadata": {
    "collapsed": false
   },
   "outputs": [
    {
     "data": {
      "text/plain": [
       "[(u'destination_management', 0.5399826765060425),\n",
       " (u'selling', 0.5118290781974792),\n",
       " (u'common_carrier', 0.49955302476882935),\n",
       " (u'unaffiliated', 0.47774800658226013),\n",
       " (u'customarily', 0.4777452349662781),\n",
       " (u'buying', 0.4759572744369507),\n",
       " (u'commodity', 0.47334566712379456),\n",
       " (u'lending', 0.46666884422302246),\n",
       " (u'loan_forbearance', 0.45854514837265015),\n",
       " (u'product', 0.45729362964630127)]"
      ]
     },
     "execution_count": 90,
     "metadata": {},
     "output_type": "execute_result"
    }
   ],
   "source": [
    "ph_word2vec.most_similar(positive=['small', 'business', 'good'])"
   ]
  },
  {
   "cell_type": "code",
   "execution_count": 98,
   "metadata": {
    "collapsed": false
   },
   "outputs": [
    {
     "data": {
      "text/plain": [
       "[(u'redistricting_initiative', 0.4105626344680786),\n",
       " (u'safety_belt', 0.3905714750289917),\n",
       " (u'left_standing', 0.3830311596393585),\n",
       " (u'overtaking_passing', 0.3780747652053833),\n",
       " (u'highway', 0.37698987126350403),\n",
       " (u'divestment', 0.3679291009902954),\n",
       " (u'helmet', 0.35704559087753296),\n",
       " (u'carnival_boardwalk', 0.34701067209243774),\n",
       " (u'environmental_quality', 0.3456107974052429),\n",
       " (u'safety_helmet', 0.33870869874954224)]"
      ]
     },
     "execution_count": 98,
     "metadata": {},
     "output_type": "execute_result"
    }
   ],
   "source": [
    "ph_word2vec.most_similar(positive=['bicycle'], negative=['car'])"
   ]
  },
  {
   "cell_type": "markdown",
   "metadata": {},
   "source": [
    "## LSI Model"
   ]
  },
  {
   "cell_type": "code",
   "execution_count": 56,
   "metadata": {
    "collapsed": true
   },
   "outputs": [],
   "source": [
    "lsi_model = models.LsiModel.load('./saved_models/lsi_model.pkl')"
   ]
  },
  {
   "cell_type": "code",
   "execution_count": 63,
   "metadata": {
    "collapsed": false
   },
   "outputs": [
    {
     "data": {
      "text/plain": [
       "[(0,\n",
       "  '-0.141*\"tax\" + -0.126*\"fund\" + -0.124*\"school\" + -0.122*\"board\" + -0.121*\"care\" + -0.113*\"county\" + -0.107*\"health\" + -0.107*\"department\" + -0.106*\"service\" + -0.104*\"employee\"'),\n",
       " (1,\n",
       "  '-0.723*\"budget\" + -0.304*\"proclamation\" + -0.237*\"emergency\" + -0.160*\"declared\" + -0.144*\"express\" + -0.141*\"intent\" + -0.140*\"statutory\" + -0.118*\"governor\" + -0.112*\"ext\" + -0.100*\"december\"'),\n",
       " (2,\n",
       "  '-0.486*\"tax\" + 0.251*\"pupil\" + -0.222*\"taxable\" + 0.214*\"school\" + -0.196*\"taxpayer\" + -0.166*\"revenue\" + 0.160*\"child\" + -0.145*\"credit\" + -0.145*\"property\" + -0.140*\"taxation\"'),\n",
       " (3,\n",
       "  '-0.432*\"pupil\" + -0.384*\"school\" + -0.235*\"education\" + 0.186*\"care\" + -0.185*\"tax\" + -0.174*\"district\" + -0.163*\"charter\" + -0.152*\"college\" + 0.137*\"health\" + -0.130*\"superintendent\"'),\n",
       " (4,\n",
       "  '-0.445*\"water\" + -0.277*\"energy\" + -0.258*\"project\" + 0.225*\"tax\" + 0.133*\"child\" + 0.132*\"taxable\" + -0.131*\"resource\" + -0.120*\"utility\" + 0.118*\"taxpayer\" + -0.117*\"commission\"'),\n",
       " (5,\n",
       "  '-0.319*\"care\" + 0.274*\"vehicle\" + -0.225*\"health\" + 0.211*\"court\" + 0.169*\"defendant\" + -0.161*\"medi\" + 0.158*\"election\" + -0.156*\"plan\" + -0.150*\"cal\" + 0.119*\"person\"'),\n",
       " (6,\n",
       "  '-0.370*\"election\" + -0.295*\"employee\" + 0.270*\"vehicle\" + -0.251*\"ballot\" + -0.247*\"retirement\" + -0.216*\"employer\" + -0.192*\"voter\" + 0.191*\"child\" + -0.180*\"water\" + 0.165*\"energy\"'),\n",
       " (7,\n",
       "  '-0.505*\"water\" + 0.271*\"energy\" + -0.218*\"child\" + 0.211*\"employee\" + 0.210*\"vehicle\" + 0.162*\"employer\" + 0.153*\"retirement\" + 0.141*\"electrical\" + 0.135*\"utility\" + -0.131*\"tax\"'),\n",
       " (8,\n",
       "  '0.507*\"vehicle\" + -0.311*\"energy\" + -0.175*\"court\" + -0.154*\"child\" + 0.151*\"motor\" + -0.148*\"electrical\" + 0.139*\"license\" + -0.138*\"defendant\" + -0.135*\"utility\" + -0.128*\"electricity\"'),\n",
       " (9,\n",
       "  '0.492*\"election\" + 0.369*\"ballot\" + 0.293*\"voter\" + -0.237*\"employee\" + -0.223*\"water\" + -0.174*\"employer\" + 0.168*\"energy\" + -0.164*\"retirement\" + 0.127*\"care\" + 0.115*\"candidate\"')]"
      ]
     },
     "execution_count": 63,
     "metadata": {},
     "output_type": "execute_result"
    }
   ],
   "source": [
    "lsi_model.print_topics(10)"
   ]
  },
  {
   "cell_type": "code",
   "execution_count": 99,
   "metadata": {
    "collapsed": false
   },
   "outputs": [],
   "source": [
    "lsa_model = models.LdaModel.load('./saved_models/lsa_model.pkl')"
   ]
  },
  {
   "cell_type": "code",
   "execution_count": 100,
   "metadata": {
    "collapsed": false
   },
   "outputs": [
    {
     "ename": "AttributeError",
     "evalue": "'LdaModel' object has no attribute 'random_state'",
     "output_type": "error",
     "traceback": [
      "\u001b[0;31m---------------------------------------------------------------------------\u001b[0m",
      "\u001b[0;31mAttributeError\u001b[0m                            Traceback (most recent call last)",
      "\u001b[0;32m<ipython-input-100-d1b890230cbd>\u001b[0m in \u001b[0;36m<module>\u001b[0;34m()\u001b[0m\n\u001b[0;32m----> 1\u001b[0;31m \u001b[0mlsa_model\u001b[0m\u001b[0;34m.\u001b[0m\u001b[0mprint_topics\u001b[0m\u001b[0;34m(\u001b[0m\u001b[0;36m10\u001b[0m\u001b[0;34m)\u001b[0m\u001b[0;34m\u001b[0m\u001b[0m\n\u001b[0m",
      "\u001b[0;32m/Users/powchow/.virtualenvs/gatech-ml/lib/python2.7/site-packages/gensim/models/ldamodel.pyc\u001b[0m in \u001b[0;36mprint_topics\u001b[0;34m(self, num_topics, num_words)\u001b[0m\n\u001b[1;32m    771\u001b[0m \u001b[0;34m\u001b[0m\u001b[0m\n\u001b[1;32m    772\u001b[0m     \u001b[0;32mdef\u001b[0m \u001b[0mprint_topics\u001b[0m\u001b[0;34m(\u001b[0m\u001b[0mself\u001b[0m\u001b[0;34m,\u001b[0m \u001b[0mnum_topics\u001b[0m\u001b[0;34m=\u001b[0m\u001b[0;36m10\u001b[0m\u001b[0;34m,\u001b[0m \u001b[0mnum_words\u001b[0m\u001b[0;34m=\u001b[0m\u001b[0;36m10\u001b[0m\u001b[0;34m)\u001b[0m\u001b[0;34m:\u001b[0m\u001b[0;34m\u001b[0m\u001b[0m\n\u001b[0;32m--> 773\u001b[0;31m         \u001b[0;32mreturn\u001b[0m \u001b[0mself\u001b[0m\u001b[0;34m.\u001b[0m\u001b[0mshow_topics\u001b[0m\u001b[0;34m(\u001b[0m\u001b[0mnum_topics\u001b[0m\u001b[0;34m,\u001b[0m \u001b[0mnum_words\u001b[0m\u001b[0;34m,\u001b[0m \u001b[0mlog\u001b[0m\u001b[0;34m=\u001b[0m\u001b[0mTrue\u001b[0m\u001b[0;34m)\u001b[0m\u001b[0;34m\u001b[0m\u001b[0m\n\u001b[0m\u001b[1;32m    774\u001b[0m \u001b[0;34m\u001b[0m\u001b[0m\n\u001b[1;32m    775\u001b[0m     \u001b[0;32mdef\u001b[0m \u001b[0mshow_topics\u001b[0m\u001b[0;34m(\u001b[0m\u001b[0mself\u001b[0m\u001b[0;34m,\u001b[0m \u001b[0mnum_topics\u001b[0m\u001b[0;34m=\u001b[0m\u001b[0;36m10\u001b[0m\u001b[0;34m,\u001b[0m \u001b[0mnum_words\u001b[0m\u001b[0;34m=\u001b[0m\u001b[0;36m10\u001b[0m\u001b[0;34m,\u001b[0m \u001b[0mlog\u001b[0m\u001b[0;34m=\u001b[0m\u001b[0mFalse\u001b[0m\u001b[0;34m,\u001b[0m \u001b[0mformatted\u001b[0m\u001b[0;34m=\u001b[0m\u001b[0mTrue\u001b[0m\u001b[0;34m)\u001b[0m\u001b[0;34m:\u001b[0m\u001b[0;34m\u001b[0m\u001b[0m\n",
      "\u001b[0;32m/Users/powchow/.virtualenvs/gatech-ml/lib/python2.7/site-packages/gensim/models/ldamodel.pyc\u001b[0m in \u001b[0;36mshow_topics\u001b[0;34m(self, num_topics, num_words, log, formatted)\u001b[0m\n\u001b[1;32m    795\u001b[0m \u001b[0;34m\u001b[0m\u001b[0m\n\u001b[1;32m    796\u001b[0m             \u001b[0;31m# add a little random jitter, to randomize results around the same alpha\u001b[0m\u001b[0;34m\u001b[0m\u001b[0;34m\u001b[0m\u001b[0m\n\u001b[0;32m--> 797\u001b[0;31m             \u001b[0msort_alpha\u001b[0m \u001b[0;34m=\u001b[0m \u001b[0mself\u001b[0m\u001b[0;34m.\u001b[0m\u001b[0malpha\u001b[0m \u001b[0;34m+\u001b[0m \u001b[0;36m0.0001\u001b[0m \u001b[0;34m*\u001b[0m \u001b[0mself\u001b[0m\u001b[0;34m.\u001b[0m\u001b[0mrandom_state\u001b[0m\u001b[0;34m.\u001b[0m\u001b[0mrand\u001b[0m\u001b[0;34m(\u001b[0m\u001b[0mlen\u001b[0m\u001b[0;34m(\u001b[0m\u001b[0mself\u001b[0m\u001b[0;34m.\u001b[0m\u001b[0malpha\u001b[0m\u001b[0;34m)\u001b[0m\u001b[0;34m)\u001b[0m\u001b[0;34m\u001b[0m\u001b[0m\n\u001b[0m\u001b[1;32m    798\u001b[0m \u001b[0;34m\u001b[0m\u001b[0m\n\u001b[1;32m    799\u001b[0m             \u001b[0msorted_topics\u001b[0m \u001b[0;34m=\u001b[0m \u001b[0mlist\u001b[0m\u001b[0;34m(\u001b[0m\u001b[0mmatutils\u001b[0m\u001b[0;34m.\u001b[0m\u001b[0margsort\u001b[0m\u001b[0;34m(\u001b[0m\u001b[0msort_alpha\u001b[0m\u001b[0;34m)\u001b[0m\u001b[0;34m)\u001b[0m\u001b[0;34m\u001b[0m\u001b[0m\n",
      "\u001b[0;31mAttributeError\u001b[0m: 'LdaModel' object has no attribute 'random_state'"
     ]
    }
   ],
   "source": [
    "lsa_model.print_topics(10)"
   ]
  },
  {
   "cell_type": "code",
   "execution_count": null,
   "metadata": {
    "collapsed": true
   },
   "outputs": [],
   "source": []
  }
 ],
 "metadata": {
  "kernelspec": {
   "display_name": "Python 2",
   "language": "python",
   "name": "python2"
  },
  "language_info": {
   "codemirror_mode": {
    "name": "ipython",
    "version": 2
   },
   "file_extension": ".py",
   "mimetype": "text/x-python",
   "name": "python",
   "nbconvert_exporter": "python",
   "pygments_lexer": "ipython2",
   "version": "2.7.5"
  }
 },
 "nbformat": 4,
 "nbformat_minor": 0
}
