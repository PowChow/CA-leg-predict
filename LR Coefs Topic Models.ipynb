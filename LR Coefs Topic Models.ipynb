{
 "cells": [
  {
   "cell_type": "code",
   "execution_count": 1,
   "metadata": {
    "collapsed": true
   },
   "outputs": [],
   "source": [
    "from gensim import corpora, models, similarities\n",
    "import pandas as pd"
   ]
  },
  {
   "cell_type": "code",
   "execution_count": 3,
   "metadata": {
    "collapsed": false
   },
   "outputs": [
    {
     "name": "stdout",
     "output_type": "stream",
     "text": [
      "\u001b[31mcorpus.mm\u001b[m\u001b[m*                         lda_tfidf_model_50.pkl             lsi_tfidf_model_50.pkl.projection\r\n",
      "\u001b[31mcorpus.mm.index\u001b[m\u001b[m*                   lda_tfidf_model_50.pkl.state       merged_df.csv\r\n",
      "\u001b[31mcorpus_lsi_model.pkl\u001b[m\u001b[m*              \u001b[31mlegtext.dict\u001b[m\u001b[m*                      merged_df_bills_topics.csv\r\n",
      "df_bill_topics.csv                 \u001b[31mlsa_model.pkl\u001b[m\u001b[m*                     party_linearSVC.pkl\r\n",
      "df_lr_coefs_finals.csv             \u001b[31mlsa_model.pkl.state\u001b[m\u001b[m*               party_logreg_l1.pkl\r\n",
      "feature_list.p                     \u001b[31mlsa_tfidf_model.pkl\u001b[m\u001b[m*               party_logreg_l2.pkl\r\n",
      "\u001b[31mid_feature100.txt\u001b[m\u001b[m*                 \u001b[31mlsa_tfidf_model.pkl.state\u001b[m\u001b[m*         url_feature_list_tuple.p\r\n",
      "\u001b[31mid_vector100.txt\u001b[m\u001b[m*                  \u001b[31mlsi_model.pkl\u001b[m\u001b[m*                     with_corpus_lsi_model_50.pkl\r\n",
      "lda_tfidf_model_100.pkl            \u001b[31mlsi_model.pkl.projection\u001b[m\u001b[m*          word2vec_model.pkl\r\n",
      "lda_tfidf_model_100.pkl.state      lsi_tfidf_model_50.pkl             word2vec_phrased_model.pkl\r\n"
     ]
    }
   ],
   "source": [
    "ls saved_models/"
   ]
  },
  {
   "cell_type": "code",
   "execution_count": 9,
   "metadata": {
    "collapsed": false
   },
   "outputs": [
    {
     "data": {
      "text/html": [
       "<div>\n",
       "<table border=\"1\" class=\"dataframe\">\n",
       "  <thead>\n",
       "    <tr style=\"text-align: right;\">\n",
       "      <th></th>\n",
       "      <th>coef</th>\n",
       "      <th>features</th>\n",
       "    </tr>\n",
       "  </thead>\n",
       "  <tbody>\n",
       "    <tr>\n",
       "      <th>0</th>\n",
       "      <td>1.714719</td>\n",
       "      <td>11</td>\n",
       "    </tr>\n",
       "    <tr>\n",
       "      <th>1</th>\n",
       "      <td>1.254802</td>\n",
       "      <td>48</td>\n",
       "    </tr>\n",
       "    <tr>\n",
       "      <th>2</th>\n",
       "      <td>1.130231</td>\n",
       "      <td>51</td>\n",
       "    </tr>\n",
       "    <tr>\n",
       "      <th>3</th>\n",
       "      <td>0.487044</td>\n",
       "      <td>4</td>\n",
       "    </tr>\n",
       "    <tr>\n",
       "      <th>4</th>\n",
       "      <td>0.363648</td>\n",
       "      <td>34</td>\n",
       "    </tr>\n",
       "    <tr>\n",
       "      <th>5</th>\n",
       "      <td>0.341071</td>\n",
       "      <td>37</td>\n",
       "    </tr>\n",
       "    <tr>\n",
       "      <th>6</th>\n",
       "      <td>0.219712</td>\n",
       "      <td>57</td>\n",
       "    </tr>\n",
       "    <tr>\n",
       "      <th>7</th>\n",
       "      <td>0.200828</td>\n",
       "      <td>22</td>\n",
       "    </tr>\n",
       "    <tr>\n",
       "      <th>8</th>\n",
       "      <td>0.162265</td>\n",
       "      <td>73</td>\n",
       "    </tr>\n",
       "    <tr>\n",
       "      <th>9</th>\n",
       "      <td>0.135690</td>\n",
       "      <td>47</td>\n",
       "    </tr>\n",
       "  </tbody>\n",
       "</table>\n",
       "</div>"
      ],
      "text/plain": [
       "       coef  features\n",
       "0  1.714719        11\n",
       "1  1.254802        48\n",
       "2  1.130231        51\n",
       "3  0.487044         4\n",
       "4  0.363648        34\n",
       "5  0.341071        37\n",
       "6  0.219712        57\n",
       "7  0.200828        22\n",
       "8  0.162265        73\n",
       "9  0.135690        47"
      ]
     },
     "execution_count": 9,
     "metadata": {},
     "output_type": "execute_result"
    }
   ],
   "source": [
    "coefs = pd.read_csv('./saved_models/df_lr_coefs_finals.csv').iloc[:, 1:]\n",
    "coefs[:10]"
   ]
  },
  {
   "cell_type": "code",
   "execution_count": 10,
   "metadata": {
    "collapsed": true
   },
   "outputs": [],
   "source": [
    "lda_tfidf_model = models.LdaModel.load('./saved_models/lda_tfidf_model_100.pkl')"
   ]
  },
  {
   "cell_type": "code",
   "execution_count": 17,
   "metadata": {
    "collapsed": false
   },
   "outputs": [
    {
     "ename": "NameError",
     "evalue": "name 'np' is not defined",
     "output_type": "error",
     "traceback": [
      "\u001b[0;31m---------------------------------------------------------------------------\u001b[0m",
      "\u001b[0;31mNameError\u001b[0m                                 Traceback (most recent call last)",
      "\u001b[0;32m<ipython-input-17-179a272ec792>\u001b[0m in \u001b[0;36m<module>\u001b[0;34m()\u001b[0m\n\u001b[1;32m      7\u001b[0m \u001b[0mcoefs\u001b[0m\u001b[0;34m[\u001b[0m\u001b[0;34m'topics'\u001b[0m\u001b[0;34m]\u001b[0m \u001b[0;34m=\u001b[0m \u001b[0mcoefs\u001b[0m\u001b[0;34m[\u001b[0m\u001b[0;34m'features'\u001b[0m\u001b[0;34m]\u001b[0m\u001b[0;34m.\u001b[0m\u001b[0mapply\u001b[0m\u001b[0;34m(\u001b[0m \u001b[0;32mlambda\u001b[0m \u001b[0mx\u001b[0m\u001b[0;34m:\u001b[0m \u001b[0mget_topic_num\u001b[0m\u001b[0;34m(\u001b[0m\u001b[0mx\u001b[0m\u001b[0;34m)\u001b[0m\u001b[0;34m)\u001b[0m\u001b[0;34m\u001b[0m\u001b[0m\n\u001b[1;32m      8\u001b[0m \u001b[0;34m\u001b[0m\u001b[0m\n\u001b[0;32m----> 9\u001b[0;31m \u001b[0mnp\u001b[0m\u001b[0;34m.\u001b[0m\u001b[0mexp\u001b[0m\u001b[0;34m(\u001b[0m\u001b[0mresult\u001b[0m\u001b[0;34m.\u001b[0m\u001b[0mparams\u001b[0m\u001b[0;34m)\u001b[0m\u001b[0;34m\u001b[0m\u001b[0m\n\u001b[0m",
      "\u001b[0;31mNameError\u001b[0m: name 'np' is not defined"
     ]
    }
   ],
   "source": [
    "lda_tfidf_model = models.LdaModel.load('./saved_models/lda_tfidf_model_100.pkl')\n",
    "\n",
    "def get_topic_num(num):\n",
    "    return lda_tfidf_model.print_topic(num)\n",
    "\n",
    "coefs['topics'] = coefs['features'].apply( lambda x: get_topic_num(x))\n",
    "coefs['topics'] = coefs['features'].apply( lambda x: get_topic_num(x))\n"
   ]
  },
  {
   "cell_type": "code",
   "execution_count": 16,
   "metadata": {
    "collapsed": false
   },
   "outputs": [],
   "source": [
    "coefs.to_csv('./saved_models/coefs_with_topics.csv')"
   ]
  },
  {
   "cell_type": "code",
   "execution_count": null,
   "metadata": {
    "collapsed": true
   },
   "outputs": [],
   "source": []
  }
 ],
 "metadata": {
  "kernelspec": {
   "display_name": "Python 2",
   "language": "python",
   "name": "python2"
  },
  "language_info": {
   "codemirror_mode": {
    "name": "ipython",
    "version": 2
   },
   "file_extension": ".py",
   "mimetype": "text/x-python",
   "name": "python",
   "nbconvert_exporter": "python",
   "pygments_lexer": "ipython2",
   "version": "2.7.5"
  }
 },
 "nbformat": 4,
 "nbformat_minor": 0
}
